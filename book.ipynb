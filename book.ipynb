{
 "cells": [
  {
   "cell_type": "code",
   "execution_count": 3,
   "id": "ea45091d-9f1c-4631-b7f6-86bd0139b09c",
   "metadata": {},
   "outputs": [],
   "source": [
    "import pandas as pd"
   ]
  },
  {
   "cell_type": "code",
   "execution_count": 4,
   "id": "e19ba42c-fda1-4f0f-918b-cbb0faa48fb1",
   "metadata": {},
   "outputs": [],
   "source": [
    "def get_data():\n",
    "    rating_features = [\"User_id\",\"Id\", \"review/score\"]\n",
    "    return pd.read_csv(\"Books_rating.csv\", sep=\",\", usecols=rating_features)\n",
    "\n",
    "def get_ratings():\n",
    "    return get_data()[0]\n",
    "\n",
    "def get_book_features():\n",
    "    return get_data()[1]"
   ]
  },
  {
   "cell_type": "code",
   "execution_count": 10,
   "id": "0ba0f4e2-cc83-451a-8d21-4dd6ba927502",
   "metadata": {},
   "outputs": [
    {
     "data": {
      "text/plain": [
       "(3000000, 3)"
      ]
     },
     "execution_count": 10,
     "metadata": {},
     "output_type": "execute_result"
    }
   ],
   "source": [
    "get_data().shape"
   ]
  },
  {
   "cell_type": "code",
   "execution_count": null,
   "id": "deaea7de-6808-4e81-b9fe-ca94375ecfae",
   "metadata": {},
   "outputs": [],
   "source": []
  }
 ],
 "metadata": {
  "kernelspec": {
   "display_name": "Python 3",
   "language": "python",
   "name": "python3"
  },
  "language_info": {
   "codemirror_mode": {
    "name": "ipython",
    "version": 3
   },
   "file_extension": ".py",
   "mimetype": "text/x-python",
   "name": "python",
   "nbconvert_exporter": "python",
   "pygments_lexer": "ipython3",
   "version": "3.10.10"
  }
 },
 "nbformat": 4,
 "nbformat_minor": 5
}
