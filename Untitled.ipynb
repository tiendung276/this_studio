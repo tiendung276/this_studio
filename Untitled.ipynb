{
 "cells": [
  {
   "cell_type": "code",
   "execution_count": 1,
   "id": "a0b056bc-af29-4635-bfb2-4aa0cf904408",
   "metadata": {},
   "outputs": [
    {
     "name": "stdout",
     "output_type": "stream",
     "text": [
      "Requirement already satisfied: pytorch_lightning in /system/conda/miniconda3/envs/cloudspace/lib/python3.10/site-packages (2.1.2)\n",
      "Requirement already satisfied: numpy>=1.17.2 in /system/conda/miniconda3/envs/cloudspace/lib/python3.10/site-packages (from pytorch_lightning) (1.22.4)\n",
      "Requirement already satisfied: torch>=1.12.0 in /system/conda/miniconda3/envs/cloudspace/lib/python3.10/site-packages (from pytorch_lightning) (2.1.1)\n",
      "Requirement already satisfied: tqdm>=4.57.0 in /system/conda/miniconda3/envs/cloudspace/lib/python3.10/site-packages (from pytorch_lightning) (4.66.1)\n",
      "Requirement already satisfied: PyYAML>=5.4 in /system/conda/miniconda3/envs/cloudspace/lib/python3.10/site-packages (from pytorch_lightning) (6.0.1)\n",
      "Requirement already satisfied: fsspec>2021.06.0 in /system/conda/miniconda3/envs/cloudspace/lib/python3.10/site-packages (from fsspec[http]>2021.06.0->pytorch_lightning) (2023.10.0)\n",
      "Requirement already satisfied: torchmetrics>=0.7.0 in /system/conda/miniconda3/envs/cloudspace/lib/python3.10/site-packages (from pytorch_lightning) (1.2.0)\n",
      "Requirement already satisfied: packaging>=20.0 in /system/conda/miniconda3/envs/cloudspace/lib/python3.10/site-packages (from pytorch_lightning) (23.2)\n",
      "Requirement already satisfied: typing-extensions>=4.0.0 in /system/conda/miniconda3/envs/cloudspace/lib/python3.10/site-packages (from pytorch_lightning) (4.8.0)\n",
      "Requirement already satisfied: lightning-utilities>=0.8.0 in /system/conda/miniconda3/envs/cloudspace/lib/python3.10/site-packages (from pytorch_lightning) (0.10.0)\n",
      "Requirement already satisfied: requests in /system/conda/miniconda3/envs/cloudspace/lib/python3.10/site-packages (from fsspec[http]>2021.06.0->pytorch_lightning) (2.31.0)\n",
      "Requirement already satisfied: aiohttp!=4.0.0a0,!=4.0.0a1 in /system/conda/miniconda3/envs/cloudspace/lib/python3.10/site-packages (from fsspec[http]>2021.06.0->pytorch_lightning) (3.9.0)\n",
      "Requirement already satisfied: setuptools in /system/conda/miniconda3/envs/cloudspace/lib/python3.10/site-packages (from lightning-utilities>=0.8.0->pytorch_lightning) (68.0.0)\n",
      "Requirement already satisfied: filelock in /system/conda/miniconda3/envs/cloudspace/lib/python3.10/site-packages (from torch>=1.12.0->pytorch_lightning) (3.13.1)\n",
      "Requirement already satisfied: sympy in /system/conda/miniconda3/envs/cloudspace/lib/python3.10/site-packages (from torch>=1.12.0->pytorch_lightning) (1.12)\n",
      "Requirement already satisfied: networkx in /system/conda/miniconda3/envs/cloudspace/lib/python3.10/site-packages (from torch>=1.12.0->pytorch_lightning) (3.2.1)\n",
      "Requirement already satisfied: jinja2 in /system/conda/miniconda3/envs/cloudspace/lib/python3.10/site-packages (from torch>=1.12.0->pytorch_lightning) (3.1.2)\n",
      "Requirement already satisfied: nvidia-cuda-nvrtc-cu12==12.1.105 in /system/conda/miniconda3/envs/cloudspace/lib/python3.10/site-packages (from torch>=1.12.0->pytorch_lightning) (12.1.105)\n",
      "Requirement already satisfied: nvidia-cuda-runtime-cu12==12.1.105 in /system/conda/miniconda3/envs/cloudspace/lib/python3.10/site-packages (from torch>=1.12.0->pytorch_lightning) (12.1.105)\n",
      "Requirement already satisfied: nvidia-cuda-cupti-cu12==12.1.105 in /system/conda/miniconda3/envs/cloudspace/lib/python3.10/site-packages (from torch>=1.12.0->pytorch_lightning) (12.1.105)\n",
      "Requirement already satisfied: nvidia-cudnn-cu12==8.9.2.26 in /system/conda/miniconda3/envs/cloudspace/lib/python3.10/site-packages (from torch>=1.12.0->pytorch_lightning) (8.9.2.26)\n",
      "Requirement already satisfied: nvidia-cublas-cu12==12.1.3.1 in /system/conda/miniconda3/envs/cloudspace/lib/python3.10/site-packages (from torch>=1.12.0->pytorch_lightning) (12.1.3.1)\n",
      "Requirement already satisfied: nvidia-cufft-cu12==11.0.2.54 in /system/conda/miniconda3/envs/cloudspace/lib/python3.10/site-packages (from torch>=1.12.0->pytorch_lightning) (11.0.2.54)\n",
      "Requirement already satisfied: nvidia-curand-cu12==10.3.2.106 in /system/conda/miniconda3/envs/cloudspace/lib/python3.10/site-packages (from torch>=1.12.0->pytorch_lightning) (10.3.2.106)\n",
      "Requirement already satisfied: nvidia-cusolver-cu12==11.4.5.107 in /system/conda/miniconda3/envs/cloudspace/lib/python3.10/site-packages (from torch>=1.12.0->pytorch_lightning) (11.4.5.107)\n",
      "Requirement already satisfied: nvidia-cusparse-cu12==12.1.0.106 in /system/conda/miniconda3/envs/cloudspace/lib/python3.10/site-packages (from torch>=1.12.0->pytorch_lightning) (12.1.0.106)\n",
      "Requirement already satisfied: nvidia-nccl-cu12==2.18.1 in /system/conda/miniconda3/envs/cloudspace/lib/python3.10/site-packages (from torch>=1.12.0->pytorch_lightning) (2.18.1)\n",
      "Requirement already satisfied: nvidia-nvtx-cu12==12.1.105 in /system/conda/miniconda3/envs/cloudspace/lib/python3.10/site-packages (from torch>=1.12.0->pytorch_lightning) (12.1.105)\n",
      "Requirement already satisfied: triton==2.1.0 in /system/conda/miniconda3/envs/cloudspace/lib/python3.10/site-packages (from torch>=1.12.0->pytorch_lightning) (2.1.0)\n",
      "Requirement already satisfied: nvidia-nvjitlink-cu12 in /system/conda/miniconda3/envs/cloudspace/lib/python3.10/site-packages (from nvidia-cusolver-cu12==11.4.5.107->torch>=1.12.0->pytorch_lightning) (12.3.101)\n",
      "Requirement already satisfied: attrs>=17.3.0 in /system/conda/miniconda3/envs/cloudspace/lib/python3.10/site-packages (from aiohttp!=4.0.0a0,!=4.0.0a1->fsspec[http]>2021.06.0->pytorch_lightning) (23.1.0)\n",
      "Requirement already satisfied: multidict<7.0,>=4.5 in /system/conda/miniconda3/envs/cloudspace/lib/python3.10/site-packages (from aiohttp!=4.0.0a0,!=4.0.0a1->fsspec[http]>2021.06.0->pytorch_lightning) (6.0.4)\n",
      "Requirement already satisfied: yarl<2.0,>=1.0 in /system/conda/miniconda3/envs/cloudspace/lib/python3.10/site-packages (from aiohttp!=4.0.0a0,!=4.0.0a1->fsspec[http]>2021.06.0->pytorch_lightning) (1.9.3)\n",
      "Requirement already satisfied: frozenlist>=1.1.1 in /system/conda/miniconda3/envs/cloudspace/lib/python3.10/site-packages (from aiohttp!=4.0.0a0,!=4.0.0a1->fsspec[http]>2021.06.0->pytorch_lightning) (1.4.0)\n",
      "Requirement already satisfied: aiosignal>=1.1.2 in /system/conda/miniconda3/envs/cloudspace/lib/python3.10/site-packages (from aiohttp!=4.0.0a0,!=4.0.0a1->fsspec[http]>2021.06.0->pytorch_lightning) (1.3.1)\n",
      "Requirement already satisfied: async-timeout<5.0,>=4.0 in /system/conda/miniconda3/envs/cloudspace/lib/python3.10/site-packages (from aiohttp!=4.0.0a0,!=4.0.0a1->fsspec[http]>2021.06.0->pytorch_lightning) (4.0.3)\n",
      "Requirement already satisfied: MarkupSafe>=2.0 in /system/conda/miniconda3/envs/cloudspace/lib/python3.10/site-packages (from jinja2->torch>=1.12.0->pytorch_lightning) (2.1.3)\n",
      "Requirement already satisfied: charset-normalizer<4,>=2 in /system/conda/miniconda3/envs/cloudspace/lib/python3.10/site-packages (from requests->fsspec[http]>2021.06.0->pytorch_lightning) (3.3.2)\n",
      "Requirement already satisfied: idna<4,>=2.5 in /system/conda/miniconda3/envs/cloudspace/lib/python3.10/site-packages (from requests->fsspec[http]>2021.06.0->pytorch_lightning) (3.4)\n",
      "Requirement already satisfied: urllib3<3,>=1.21.1 in /system/conda/miniconda3/envs/cloudspace/lib/python3.10/site-packages (from requests->fsspec[http]>2021.06.0->pytorch_lightning) (2.0.7)\n",
      "Requirement already satisfied: certifi>=2017.4.17 in /system/conda/miniconda3/envs/cloudspace/lib/python3.10/site-packages (from requests->fsspec[http]>2021.06.0->pytorch_lightning) (2023.11.17)\n",
      "Requirement already satisfied: mpmath>=0.19 in /system/conda/miniconda3/envs/cloudspace/lib/python3.10/site-packages (from sympy->torch>=1.12.0->pytorch_lightning) (1.3.0)\n"
     ]
    }
   ],
   "source": [
    "!pip install pytorch_lightning"
   ]
  },
  {
   "cell_type": "code",
   "execution_count": 2,
   "id": "ae770e41-779c-4e96-8929-86e35dbf49bf",
   "metadata": {},
   "outputs": [
    {
     "name": "stdout",
     "output_type": "stream",
     "text": [
      "Requirement already satisfied: tabml in /system/conda/miniconda3/envs/cloudspace/lib/python3.10/site-packages (0.2.9)\n",
      "Requirement already satisfied: catboost>=1.1 in /system/conda/miniconda3/envs/cloudspace/lib/python3.10/site-packages (from tabml) (1.2.2)\n",
      "Requirement already satisfied: GPUtil>=1.4.0 in /system/conda/miniconda3/envs/cloudspace/lib/python3.10/site-packages (from tabml) (1.4.0)\n",
      "Requirement already satisfied: lightgbm>=2.3.1 in /system/conda/miniconda3/envs/cloudspace/lib/python3.10/site-packages (from tabml) (4.1.0)\n",
      "Requirement already satisfied: loguru>=0.5.1 in /system/conda/miniconda3/envs/cloudspace/lib/python3.10/site-packages (from tabml) (0.7.2)\n",
      "Requirement already satisfied: numpy<1.23.0,>=1.21 in /system/conda/miniconda3/envs/cloudspace/lib/python3.10/site-packages (from tabml) (1.22.4)\n",
      "Requirement already satisfied: pandas>=1.4.3 in /system/conda/miniconda3/envs/cloudspace/lib/python3.10/site-packages (from tabml) (2.1.4)\n",
      "Requirement already satisfied: pandas-profiling>=2.9.0 in /system/conda/miniconda3/envs/cloudspace/lib/python3.10/site-packages (from tabml) (3.6.6)\n",
      "Requirement already satisfied: pydantic>=1.8.2 in /system/conda/miniconda3/envs/cloudspace/lib/python3.10/site-packages (from tabml) (2.5.1)\n",
      "Requirement already satisfied: pyyaml>=6.0 in /system/conda/miniconda3/envs/cloudspace/lib/python3.10/site-packages (from tabml) (6.0.1)\n",
      "Requirement already satisfied: scikit-learn>=1.1.2 in /system/conda/miniconda3/envs/cloudspace/lib/python3.10/site-packages (from tabml) (1.3.2)\n",
      "Requirement already satisfied: scipy>=1.9.3 in /system/conda/miniconda3/envs/cloudspace/lib/python3.10/site-packages (from tabml) (1.11.4)\n",
      "Requirement already satisfied: shap>=0.39.0 in /system/conda/miniconda3/envs/cloudspace/lib/python3.10/site-packages (from tabml) (0.44.0)\n",
      "Requirement already satisfied: termgraph>=0.4.2 in /system/conda/miniconda3/envs/cloudspace/lib/python3.10/site-packages (from tabml) (0.5.3)\n",
      "Requirement already satisfied: xgboost>=1.6 in /system/conda/miniconda3/envs/cloudspace/lib/python3.10/site-packages (from tabml) (2.0.2)\n",
      "Requirement already satisfied: graphviz in /system/conda/miniconda3/envs/cloudspace/lib/python3.10/site-packages (from catboost>=1.1->tabml) (0.20.1)\n",
      "Requirement already satisfied: matplotlib in /system/conda/miniconda3/envs/cloudspace/lib/python3.10/site-packages (from catboost>=1.1->tabml) (3.8.2)\n",
      "Requirement already satisfied: plotly in /system/conda/miniconda3/envs/cloudspace/lib/python3.10/site-packages (from catboost>=1.1->tabml) (5.18.0)\n",
      "Requirement already satisfied: six in /system/conda/miniconda3/envs/cloudspace/lib/python3.10/site-packages (from catboost>=1.1->tabml) (1.16.0)\n",
      "Requirement already satisfied: python-dateutil>=2.8.2 in /system/conda/miniconda3/envs/cloudspace/lib/python3.10/site-packages (from pandas>=1.4.3->tabml) (2.8.2)\n",
      "Requirement already satisfied: pytz>=2020.1 in /system/conda/miniconda3/envs/cloudspace/lib/python3.10/site-packages (from pandas>=1.4.3->tabml) (2023.3.post1)\n",
      "Requirement already satisfied: tzdata>=2022.1 in /system/conda/miniconda3/envs/cloudspace/lib/python3.10/site-packages (from pandas>=1.4.3->tabml) (2023.3)\n",
      "Requirement already satisfied: ydata-profiling in /system/conda/miniconda3/envs/cloudspace/lib/python3.10/site-packages (from pandas-profiling>=2.9.0->tabml) (4.6.3)\n",
      "Requirement already satisfied: annotated-types>=0.4.0 in /system/conda/miniconda3/envs/cloudspace/lib/python3.10/site-packages (from pydantic>=1.8.2->tabml) (0.6.0)\n",
      "Requirement already satisfied: pydantic-core==2.14.3 in /system/conda/miniconda3/envs/cloudspace/lib/python3.10/site-packages (from pydantic>=1.8.2->tabml) (2.14.3)\n",
      "Requirement already satisfied: typing-extensions>=4.6.1 in /system/conda/miniconda3/envs/cloudspace/lib/python3.10/site-packages (from pydantic>=1.8.2->tabml) (4.8.0)\n",
      "Requirement already satisfied: joblib>=1.1.1 in /system/conda/miniconda3/envs/cloudspace/lib/python3.10/site-packages (from scikit-learn>=1.1.2->tabml) (1.3.2)\n",
      "Requirement already satisfied: threadpoolctl>=2.0.0 in /system/conda/miniconda3/envs/cloudspace/lib/python3.10/site-packages (from scikit-learn>=1.1.2->tabml) (3.2.0)\n",
      "Requirement already satisfied: tqdm>=4.27.0 in /system/conda/miniconda3/envs/cloudspace/lib/python3.10/site-packages (from shap>=0.39.0->tabml) (4.66.1)\n",
      "Requirement already satisfied: packaging>20.9 in /system/conda/miniconda3/envs/cloudspace/lib/python3.10/site-packages (from shap>=0.39.0->tabml) (23.2)\n",
      "Requirement already satisfied: slicer==0.0.7 in /system/conda/miniconda3/envs/cloudspace/lib/python3.10/site-packages (from shap>=0.39.0->tabml) (0.0.7)\n",
      "Requirement already satisfied: numba in /system/conda/miniconda3/envs/cloudspace/lib/python3.10/site-packages (from shap>=0.39.0->tabml) (0.58.1)\n",
      "Requirement already satisfied: cloudpickle in /system/conda/miniconda3/envs/cloudspace/lib/python3.10/site-packages (from shap>=0.39.0->tabml) (3.0.0)\n",
      "Requirement already satisfied: colorama in /system/conda/miniconda3/envs/cloudspace/lib/python3.10/site-packages (from termgraph>=0.4.2->tabml) (0.4.6)\n",
      "Requirement already satisfied: contourpy>=1.0.1 in /system/conda/miniconda3/envs/cloudspace/lib/python3.10/site-packages (from matplotlib->catboost>=1.1->tabml) (1.2.0)\n",
      "Requirement already satisfied: cycler>=0.10 in /system/conda/miniconda3/envs/cloudspace/lib/python3.10/site-packages (from matplotlib->catboost>=1.1->tabml) (0.12.1)\n",
      "Requirement already satisfied: fonttools>=4.22.0 in /system/conda/miniconda3/envs/cloudspace/lib/python3.10/site-packages (from matplotlib->catboost>=1.1->tabml) (4.46.0)\n",
      "Requirement already satisfied: kiwisolver>=1.3.1 in /system/conda/miniconda3/envs/cloudspace/lib/python3.10/site-packages (from matplotlib->catboost>=1.1->tabml) (1.4.5)\n",
      "Requirement already satisfied: pillow>=8 in /system/conda/miniconda3/envs/cloudspace/lib/python3.10/site-packages (from matplotlib->catboost>=1.1->tabml) (10.1.0)\n",
      "Requirement already satisfied: pyparsing>=2.3.1 in /system/conda/miniconda3/envs/cloudspace/lib/python3.10/site-packages (from matplotlib->catboost>=1.1->tabml) (3.1.1)\n",
      "Requirement already satisfied: llvmlite<0.42,>=0.41.0dev0 in /system/conda/miniconda3/envs/cloudspace/lib/python3.10/site-packages (from numba->shap>=0.39.0->tabml) (0.41.1)\n",
      "Requirement already satisfied: tenacity>=6.2.0 in /system/conda/miniconda3/envs/cloudspace/lib/python3.10/site-packages (from plotly->catboost>=1.1->tabml) (8.2.3)\n",
      "Requirement already satisfied: jinja2<3.2,>=2.11.1 in /system/conda/miniconda3/envs/cloudspace/lib/python3.10/site-packages (from ydata-profiling->pandas-profiling>=2.9.0->tabml) (3.1.2)\n",
      "Requirement already satisfied: visions==0.7.5 in /system/conda/miniconda3/envs/cloudspace/lib/python3.10/site-packages (from visions[type_image_path]==0.7.5->ydata-profiling->pandas-profiling>=2.9.0->tabml) (0.7.5)\n",
      "Requirement already satisfied: htmlmin==0.1.12 in /system/conda/miniconda3/envs/cloudspace/lib/python3.10/site-packages (from ydata-profiling->pandas-profiling>=2.9.0->tabml) (0.1.12)\n",
      "Requirement already satisfied: phik<0.13,>=0.11.1 in /system/conda/miniconda3/envs/cloudspace/lib/python3.10/site-packages (from ydata-profiling->pandas-profiling>=2.9.0->tabml) (0.12.3)\n",
      "Requirement already satisfied: requests<3,>=2.24.0 in /system/conda/miniconda3/envs/cloudspace/lib/python3.10/site-packages (from ydata-profiling->pandas-profiling>=2.9.0->tabml) (2.31.0)\n",
      "Requirement already satisfied: seaborn<0.13,>=0.10.1 in /system/conda/miniconda3/envs/cloudspace/lib/python3.10/site-packages (from ydata-profiling->pandas-profiling>=2.9.0->tabml) (0.12.2)\n",
      "Requirement already satisfied: multimethod<2,>=1.4 in /system/conda/miniconda3/envs/cloudspace/lib/python3.10/site-packages (from ydata-profiling->pandas-profiling>=2.9.0->tabml) (1.10)\n",
      "Requirement already satisfied: statsmodels<1,>=0.13.2 in /system/conda/miniconda3/envs/cloudspace/lib/python3.10/site-packages (from ydata-profiling->pandas-profiling>=2.9.0->tabml) (0.14.1)\n",
      "Requirement already satisfied: typeguard<5,>=4.1.2 in /system/conda/miniconda3/envs/cloudspace/lib/python3.10/site-packages (from ydata-profiling->pandas-profiling>=2.9.0->tabml) (4.1.5)\n",
      "Requirement already satisfied: imagehash==4.3.1 in /system/conda/miniconda3/envs/cloudspace/lib/python3.10/site-packages (from ydata-profiling->pandas-profiling>=2.9.0->tabml) (4.3.1)\n",
      "Requirement already satisfied: wordcloud>=1.9.1 in /system/conda/miniconda3/envs/cloudspace/lib/python3.10/site-packages (from ydata-profiling->pandas-profiling>=2.9.0->tabml) (1.9.3)\n",
      "Requirement already satisfied: dacite>=1.8 in /system/conda/miniconda3/envs/cloudspace/lib/python3.10/site-packages (from ydata-profiling->pandas-profiling>=2.9.0->tabml) (1.8.1)\n",
      "Requirement already satisfied: PyWavelets in /system/conda/miniconda3/envs/cloudspace/lib/python3.10/site-packages (from imagehash==4.3.1->ydata-profiling->pandas-profiling>=2.9.0->tabml) (1.5.0)\n",
      "Requirement already satisfied: attrs>=19.3.0 in /system/conda/miniconda3/envs/cloudspace/lib/python3.10/site-packages (from visions==0.7.5->visions[type_image_path]==0.7.5->ydata-profiling->pandas-profiling>=2.9.0->tabml) (23.1.0)\n",
      "Requirement already satisfied: networkx>=2.4 in /system/conda/miniconda3/envs/cloudspace/lib/python3.10/site-packages (from visions==0.7.5->visions[type_image_path]==0.7.5->ydata-profiling->pandas-profiling>=2.9.0->tabml) (3.2.1)\n",
      "Requirement already satisfied: tangled-up-in-unicode>=0.0.4 in /system/conda/miniconda3/envs/cloudspace/lib/python3.10/site-packages (from visions==0.7.5->visions[type_image_path]==0.7.5->ydata-profiling->pandas-profiling>=2.9.0->tabml) (0.2.0)\n",
      "\u001b[33mWARNING: visions 0.7.5 does not provide the extra 'type-image-path'\u001b[0m\u001b[33m\n",
      "\u001b[0mRequirement already satisfied: MarkupSafe>=2.0 in /system/conda/miniconda3/envs/cloudspace/lib/python3.10/site-packages (from jinja2<3.2,>=2.11.1->ydata-profiling->pandas-profiling>=2.9.0->tabml) (2.1.3)\n",
      "Requirement already satisfied: charset-normalizer<4,>=2 in /system/conda/miniconda3/envs/cloudspace/lib/python3.10/site-packages (from requests<3,>=2.24.0->ydata-profiling->pandas-profiling>=2.9.0->tabml) (3.3.2)\n",
      "Requirement already satisfied: idna<4,>=2.5 in /system/conda/miniconda3/envs/cloudspace/lib/python3.10/site-packages (from requests<3,>=2.24.0->ydata-profiling->pandas-profiling>=2.9.0->tabml) (3.4)\n",
      "Requirement already satisfied: urllib3<3,>=1.21.1 in /system/conda/miniconda3/envs/cloudspace/lib/python3.10/site-packages (from requests<3,>=2.24.0->ydata-profiling->pandas-profiling>=2.9.0->tabml) (2.0.7)\n",
      "Requirement already satisfied: certifi>=2017.4.17 in /system/conda/miniconda3/envs/cloudspace/lib/python3.10/site-packages (from requests<3,>=2.24.0->ydata-profiling->pandas-profiling>=2.9.0->tabml) (2023.11.17)\n",
      "Requirement already satisfied: patsy>=0.5.4 in /system/conda/miniconda3/envs/cloudspace/lib/python3.10/site-packages (from statsmodels<1,>=0.13.2->ydata-profiling->pandas-profiling>=2.9.0->tabml) (0.5.4)\n"
     ]
    }
   ],
   "source": [
    "!pip install tabml"
   ]
  },
  {
   "cell_type": "code",
   "execution_count": 1,
   "id": "821d1ba8-81d7-4562-911e-30299e9bf3c8",
   "metadata": {},
   "outputs": [],
   "source": [
    "import numpy as np\n",
    "import pandas as pd\n",
    "import pytorch_lightning as pl\n",
    "from sklearn.model_selection import train_test_split\n",
    "import torch\n",
    "from torch import nn\n",
    "import torch.multiprocessing\n",
    "import torch.nn.functional as F\n",
    "from torch.utils.data import DataLoader, Dataset\n",
    "import tabml.datasets\n",
    "\n",
    "GLOBAL_SEED = 42  # number of life\n",
    "torch.manual_seed(GLOBAL_SEED)\n",
    "np.random.seed(GLOBAL_SEED)\n",
    "torch.multiprocessing.set_sharing_strategy('file_system')"
   ]
  },
  {
   "cell_type": "code",
   "execution_count": 4,
   "id": "153a8d92-77ba-4c02-96ea-97c94eb99851",
   "metadata": {},
   "outputs": [],
   "source": [
    "df_dict = tabml.datasets.download_movielen_1m()\n",
    "users, movies, ratings = df_dict[\"users\"], df_dict[\"movies\"], df_dict[\"ratings\"]\n",
    "ratings[\"Rating\"] = ratings[\"Rating\"] - 3  # rating range (-2, 2)\n",
    "train_ratings, validation_ratings = train_test_split(\n",
    "    ratings, test_size=0.1, random_state=GLOBAL_SEED\n",
    ")"
   ]
  },
  {
   "cell_type": "code",
   "execution_count": 5,
   "id": "40436db9-d2f8-4c70-8c24-823fd3eead26",
   "metadata": {},
   "outputs": [
    {
     "name": "stderr",
     "output_type": "stream",
     "text": [
      "/home/zeus/miniconda3/envs/cloudspace/lib/python3.10/site-packages/torch/utils/data/dataloader.py:557: UserWarning: This DataLoader will create 5 worker processes in total. Our suggested max number of worker in current system is 4, which is smaller than what this DataLoader is going to create. Please be aware that excessive worker creation might get DataLoader running slow or even freeze, lower the worker number to avoid potential slowness/freeze if necessary.\n",
      "  warnings.warn(_create_warning_msg(\n"
     ]
    }
   ],
   "source": [
    "# map movie id and user id to indexes.\n",
    "movie_index_by_id = {id: idx for idx, id in enumerate(movies[\"MovieID\"])}\n",
    "user_index_by_id = {id: idx for idx, id in enumerate(users[\"UserID\"])}\n",
    "\n",
    "\n",
    "class MLDataset(Dataset):\n",
    "    def __init__(self, ratings: pd.DataFrame):\n",
    "        self.ratings = ratings\n",
    "\n",
    "    def __len__(self):\n",
    "        return len(self.ratings)\n",
    "\n",
    "    def __getitem__(self, index):\n",
    "        user_id = self.ratings[\"UserID\"].iloc[index]\n",
    "        movie_id = self.ratings[\"MovieID\"].iloc[index]\n",
    "        rating = self.ratings[\"Rating\"].iloc[index]\n",
    "        user_index = user_index_by_id[user_id]\n",
    "        movie_index = movie_index_by_id[movie_id]\n",
    "        return user_index, movie_index, rating\n",
    "\n",
    "\n",
    "training_data = MLDataset(train_ratings)\n",
    "validation_data = MLDataset(validation_ratings)\n",
    "batch_size = 1024\n",
    "train_dataloader = DataLoader(\n",
    "    training_data, batch_size=batch_size, shuffle=True, num_workers=5\n",
    ")\n",
    "validation_dataloader = DataLoader(\n",
    "    validation_data, batch_size=batch_size, shuffle=False, num_workers=5\n",
    ")"
   ]
  },
  {
   "cell_type": "code",
   "execution_count": 6,
   "id": "7dbe1218-408f-4930-a016-aceff3ac97bb",
   "metadata": {},
   "outputs": [
    {
     "name": "stdout",
     "output_type": "stream",
     "text": [
      "Requirement already satisfied: jdc in /system/conda/miniconda3/envs/cloudspace/lib/python3.10/site-packages (0.0.9)\n"
     ]
    }
   ],
   "source": [
    "!pip install jdc"
   ]
  },
  {
   "cell_type": "code",
   "execution_count": 7,
   "id": "dd8cfccf-2744-4d69-ab10-c4ca5aac5b6d",
   "metadata": {},
   "outputs": [],
   "source": [
    "import jdc\n",
    "\n",
    "LR = 1\n",
    "WEIGHT_DECAY = 5e-5\n",
    "\n",
    "\n",
    "class MatrixFactorization(pl.LightningModule):\n",
    "    \"\"\"Pytorch lighting class for Matrix Factorization training.\n",
    "\n",
    "    Attributes:\n",
    "        n_users: number of users.\n",
    "        n_items: number of items.\n",
    "        n_factors: number of latent factors (or embedding size)\n",
    "    \"\"\"\n",
    "\n",
    "    def __init__(self, n_users: int, n_items: int, n_factors: int = 40):\n",
    "        super().__init__()\n",
    "        self.n_users = n_users\n",
    "        self.n_items = n_items\n",
    "        self.n_factors = n_factors\n",
    "        self.user_biases = nn.Embedding(n_users, 1)\n",
    "        self.item_biases = nn.Embedding(n_items, 1)\n",
    "        self.bias = nn.Parameter(data=torch.rand(1))\n",
    "        self.user_embeddings = nn.Embedding(n_users, n_factors)\n",
    "        self.item_embeddings = nn.Embedding(n_items, n_factors)\n",
    "        self.training_outputs = []\n",
    "        self.validation_outputs = []\n",
    "\n",
    "    def forward(self, users, items):\n",
    "        \"\"\"\n",
    "        Forward pass through the model. For a single user and item, this\n",
    "        looks like:\n",
    "        bias + user_bias + item_bias + user_embeddings.dot(item_embeddings)\n",
    "\n",
    "        Arguments:\n",
    "            users: Array of user indices\n",
    "            items : Array of item indices\n",
    "        Returns:\n",
    "            preds: Predicted ratings.\n",
    "        \"\"\"\n",
    "        # select users and items from the batch\n",
    "        batch_user_embs = self.user_embeddings(users)\n",
    "        batch_item_embs = self.item_embeddings(items)\n",
    "\n",
    "        preds = torch.reshape(\n",
    "            torch.diag(\n",
    "                torch.matmul(batch_user_embs, torch.transpose(batch_item_embs, 0, 1))\n",
    "            ),\n",
    "            (-1, 1),\n",
    "        )\n",
    "        # add bias\n",
    "        preds += self.user_biases(users) + self.item_biases(items) + self.bias\n",
    "\n",
    "        return torch.clip(preds.squeeze(), min=-2, max=2)\n",
    "\n",
    "    def training_step(self, batch, batch_idx):\n",
    "        users, items, rating = batch\n",
    "        rating = rating.to(torch.float32)\n",
    "        output = self.forward(users, items)\n",
    "        loss = F.mse_loss(rating, output)\n",
    "        self.log(\"batch_loss\", loss)\n",
    "        return {\"loss\": loss}  # for computing avg_loss in training_epoch_end\n",
    "\n",
    "    def configure_optimizers(self):\n",
    "        optimizer = torch.optim.SGD(self.parameters(), lr=LR, weight_decay=WEIGHT_DECAY)\n",
    "        return optimizer"
   ]
  },
  {
   "cell_type": "code",
   "execution_count": 8,
   "id": "013dc9da-e6cb-4f3f-b61b-7094e78351ea",
   "metadata": {},
   "outputs": [],
   "source": [
    "def validation_step(self, batch, batch_idx):\n",
    "    users, items, rating = batch\n",
    "    rating = rating.to(torch.float32)\n",
    "    output = self.forward(users, items)\n",
    "    loss = F.mse_loss(rating, output)\n",
    "    self.log(\"batch_loss\", loss)\n",
    "    self.validation_outputs.append({\"loss\": loss})\n",
    "\n",
    "def on_training_epoch_end(self):\n",
    "    avg_loss = torch.stack([x[\"loss\"] for x in self.training_outputs]).mean()\n",
    "    self.logger.experiment.add_scalars(\n",
    "        \"Loss\", {\"Train\": avg_loss}, self.current_epoch\n",
    "    )\n",
    "    self.logger.experiment.add_scalars(\n",
    "        \"RMSE\", {\"Train\": avg_loss ** 0.5}, self.current_epoch\n",
    "    )\n",
    "    self.training_outputs.clear()\n",
    "\n",
    "def on_validation_epoch_end(self):\n",
    "    avg_loss = torch.stack([x[\"loss\"] for x in self.validation_outputs]).mean()\n",
    "    self.logger.experiment.add_scalars(\n",
    "        \"Loss\", {\"Val\": avg_loss}, self.current_epoch\n",
    "    )\n",
    "    self.logger.experiment.add_scalars(\n",
    "        \"RMSE\", {\"Val\": avg_loss ** 0.5}, self.current_epoch\n",
    "    )\n",
    "    self.validation_outputs.clear()"
   ]
  },
  {
   "cell_type": "code",
   "execution_count": 9,
   "id": "a1cf6609-534a-4455-a82e-206aead360c9",
   "metadata": {},
   "outputs": [
    {
     "name": "stderr",
     "output_type": "stream",
     "text": [
      "GPU available: False, used: False\n",
      "TPU available: False, using: 0 TPU cores\n",
      "IPU available: False, using: 0 IPUs\n",
      "HPU available: False, using: 0 HPUs\n",
      "/home/zeus/miniconda3/envs/cloudspace/lib/python3.10/site-packages/pytorch_lightning/trainer/configuration_validator.py:72: You passed in a `val_dataloader` but have no `validation_step`. Skipping val loop.\n",
      "\n",
      "  | Name            | Type      | Params\n",
      "----------------------------------------------\n",
      "0 | user_biases     | Embedding | 6.0 K \n",
      "1 | item_biases     | Embedding | 3.9 K \n",
      "2 | user_embeddings | Embedding | 241 K \n",
      "3 | item_embeddings | Embedding | 155 K \n",
      "  | other params    | n/a       | 1     \n",
      "----------------------------------------------\n",
      "406 K     Trainable params\n",
      "0         Non-trainable params\n",
      "406 K     Total params\n",
      "1.627     Total estimated model params size (MB)\n",
      "/home/zeus/miniconda3/envs/cloudspace/lib/python3.10/site-packages/torch/utils/data/dataloader.py:557: UserWarning: This DataLoader will create 5 worker processes in total. Our suggested max number of worker in current system is 4, which is smaller than what this DataLoader is going to create. Please be aware that excessive worker creation might get DataLoader running slow or even freeze, lower the worker number to avoid potential slowness/freeze if necessary.\n",
      "  warnings.warn(_create_warning_msg(\n"
     ]
    },
    {
     "data": {
      "application/vnd.jupyter.widget-view+json": {
       "model_id": "8caada07ae9d4f2a965865e69f6ea804",
       "version_major": 2,
       "version_minor": 0
      },
      "text/plain": [
       "Training: |          | 0/? [00:00<?, ?it/s]"
      ]
     },
     "metadata": {},
     "output_type": "display_data"
    },
    {
     "name": "stderr",
     "output_type": "stream",
     "text": [
      "`Trainer.fit` stopped: `max_epochs=100` reached.\n"
     ]
    }
   ],
   "source": [
    "# for tensorboard\n",
    "from pytorch_lightning.loggers import TensorBoardLogger\n",
    "logger = TensorBoardLogger(\"mf_tb_logs\", name=f\"lr{LR}_wd{WEIGHT_DECAY}\")\n",
    "\n",
    "n_users = len(user_index_by_id)\n",
    "n_movies = len(movie_index_by_id)\n",
    "n_factors = 40\n",
    "model = MatrixFactorization(n_users=n_users, n_items=n_movies, n_factors=n_factors)\n",
    "trainer = pl.Trainer(max_epochs=100, logger=logger, accelerator='auto')\n",
    "trainer.fit(model, train_dataloader, validation_dataloader)"
   ]
  },
  {
   "cell_type": "code",
   "execution_count": 10,
   "id": "3a2fd213-e075-4021-8929-d45ef4cd0159",
   "metadata": {},
   "outputs": [
    {
     "name": "stdout",
     "output_type": "stream",
     "text": [
      "Train RMSE: 0.797\n",
      "Validation RMSE: 0.880\n"
     ]
    }
   ],
   "source": [
    "def eval_model(model, train_dataloader):\n",
    "    loss = 0\n",
    "    for users, items, rating in train_dataloader:\n",
    "        pred = model(users, items)\n",
    "        loss += F.mse_loss(pred, rating)\n",
    "    RMSE = (loss / len(train_dataloader))**.5\n",
    "    return RMSE\n",
    "    \n",
    "print(\"Train RMSE: {:.3f}\".format(eval_model(model, train_dataloader)))\n",
    "print(\"Validation RMSE: {:.3f}\".format(eval_model(model, validation_dataloader)))"
   ]
  },
  {
   "cell_type": "code",
   "execution_count": 21,
   "id": "3ad97c70-1a5d-4706-bbc1-d6d0363a9e02",
   "metadata": {},
   "outputs": [
    {
     "name": "stdout",
     "output_type": "stream",
     "text": [
      "Recommended movies for user 1 : [527, 318, 858, 2028, 1198]\n"
     ]
    }
   ],
   "source": [
    "def recommend_movies(model, user_id, n_recommendations=5):\n",
    "    # Convert the user_id to the corresponding user_index\n",
    "    user_index = torch.tensor([user_index_by_id[user_id]])\n",
    "\n",
    "    # Initialize a list to store the predicted ratings\n",
    "    predicted_ratings = []\n",
    "\n",
    "    # Use the model to predict the user's rating for each movie\n",
    "    for movie_id in range(n_movies):\n",
    "        item_index = torch.tensor([movie_id])\n",
    "        predicted_rating = model(user_index, item_index)\n",
    "        predicted_ratings.append(predicted_rating.item())\n",
    "\n",
    "    # Convert the list of ratings to a tensor\n",
    "    predicted_ratings = torch.tensor(predicted_ratings)\n",
    "\n",
    "    # Get the indices of the top rated movies\n",
    "    top_movie_indices = predicted_ratings.topk(n_recommendations).indices\n",
    "\n",
    "    # Convert the indices back to movie IDs\n",
    "    top_movie_ids = [movies[\"MovieID\"].iloc[idx.item()] for idx in top_movie_indices]\n",
    "\n",
    "    return top_movie_ids\n",
    "\n",
    "\n",
    "user_id = 1  # replace with the ID of the user\n",
    "recommended_movie_ids = recommend_movies(model, user_id)\n",
    "print(\"Recommended movies for user\", user_id, \":\", recommended_movie_ids)\n"
   ]
  },
  {
   "cell_type": "code",
   "execution_count": 25,
   "id": "0890768b-de1e-49d9-9d64-d2697c3a447f",
   "metadata": {},
   "outputs": [],
   "source": [
    "torch.save(model.state_dict(), 'model.pth')"
   ]
  },
  {
   "cell_type": "code",
   "execution_count": 30,
   "id": "d017ef47-0918-4761-92fd-8feb0411f84d",
   "metadata": {},
   "outputs": [
    {
     "data": {
      "text/plain": [
       "<All keys matched successfully>"
      ]
     },
     "execution_count": 30,
     "metadata": {},
     "output_type": "execute_result"
    }
   ],
   "source": [
    "model1 = MatrixFactorization(n_users=n_users, n_items=n_movies, n_factors=n_factors)\n",
    "model1.load_state_dict(torch.load('model.pth'))"
   ]
  },
  {
   "cell_type": "code",
   "execution_count": 35,
   "id": "24ca7934-d106-4d7a-bdf0-7d2c20fc2759",
   "metadata": {},
   "outputs": [
    {
     "name": "stdout",
     "output_type": "stream",
     "text": [
      "Recommended movies for user 1 : [527, 318, 858, 2028, 1198]\n"
     ]
    }
   ],
   "source": [
    "user_id = 1  # replace with the ID of the user\n",
    "recommended_movie_ids = recommend_movies(model1, user_id)\n",
    "print(\"Recommended movies for user\", user_id, \":\", recommended_movie_ids)\n",
    "    "
   ]
  },
  {
   "cell_type": "code",
   "execution_count": 29,
   "id": "09f0f81d-97a0-4cf1-8ce1-4563f9ca155f",
   "metadata": {},
   "outputs": [
    {
     "name": "stdout",
     "output_type": "stream",
     "text": [
      "Train RMSE: 0.797\n",
      "Validation RMSE: 0.880\n"
     ]
    }
   ],
   "source": [
    "def eval_model(model, train_dataloader):\n",
    "    loss = 0\n",
    "    for users, items, rating in train_dataloader:\n",
    "        pred = model(users, items)\n",
    "        loss += F.mse_loss(pred, rating)\n",
    "    RMSE = (loss / len(train_dataloader))**.5\n",
    "    return RMSE\n",
    "    \n",
    "print(\"Train RMSE: {:.3f}\".format(eval_model(model1, train_dataloader)))\n",
    "print(\"Validation RMSE: {:.3f}\".format(eval_model(model1, validation_dataloader)))"
   ]
  },
  {
   "cell_type": "code",
   "execution_count": 31,
   "id": "003e1dc6-8344-4111-9b0d-86502af6dae4",
   "metadata": {},
   "outputs": [
    {
     "data": {
      "text/plain": [
       "(      UserID Gender  Age  Occupation Zip-code\n",
       " 0          1      F    1          10    48067\n",
       " 1          2      M   56          16    70072\n",
       " 2          3      M   25          15    55117\n",
       " 3          4      M   45           7    02460\n",
       " 4          5      M   25          20    55455\n",
       " ...      ...    ...  ...         ...      ...\n",
       " 6035    6036      F   25          15    32603\n",
       " 6036    6037      F   45           1    76006\n",
       " 6037    6038      F   56           1    14706\n",
       " 6038    6039      F   45           0    01060\n",
       " 6039    6040      M   25           6    11106\n",
       " \n",
       " [6040 rows x 5 columns],\n",
       "       MovieID                               Title  \\\n",
       " 0           1                    Toy Story (1995)   \n",
       " 1           2                      Jumanji (1995)   \n",
       " 2           3             Grumpier Old Men (1995)   \n",
       " 3           4            Waiting to Exhale (1995)   \n",
       " 4           5  Father of the Bride Part II (1995)   \n",
       " ...       ...                                 ...   \n",
       " 3878     3948             Meet the Parents (2000)   \n",
       " 3879     3949          Requiem for a Dream (2000)   \n",
       " 3880     3950                    Tigerland (2000)   \n",
       " 3881     3951             Two Family House (2000)   \n",
       " 3882     3952               Contender, The (2000)   \n",
       " \n",
       "                             Genres  \n",
       " 0      Animation|Children's|Comedy  \n",
       " 1     Adventure|Children's|Fantasy  \n",
       " 2                   Comedy|Romance  \n",
       " 3                     Comedy|Drama  \n",
       " 4                           Comedy  \n",
       " ...                            ...  \n",
       " 3878                        Comedy  \n",
       " 3879                         Drama  \n",
       " 3880                         Drama  \n",
       " 3881                         Drama  \n",
       " 3882                Drama|Thriller  \n",
       " \n",
       " [3883 rows x 3 columns],\n",
       "          UserID  MovieID  Rating  Timestamp\n",
       " 0             1     1193       2  978300760\n",
       " 1             1      661       0  978302109\n",
       " 2             1      914       0  978301968\n",
       " 3             1     3408       1  978300275\n",
       " 4             1     2355       2  978824291\n",
       " ...         ...      ...     ...        ...\n",
       " 1000204    6040     1091      -2  956716541\n",
       " 1000205    6040     1094       2  956704887\n",
       " 1000206    6040      562       2  956704746\n",
       " 1000207    6040     1096       1  956715648\n",
       " 1000208    6040     1097       1  956715569\n",
       " \n",
       " [1000209 rows x 4 columns])"
      ]
     },
     "execution_count": 31,
     "metadata": {},
     "output_type": "execute_result"
    }
   ],
   "source": [
    "users, movies, ratings"
   ]
  }
 ],
 "metadata": {
  "kernelspec": {
   "display_name": "Python 3",
   "language": "python",
   "name": "python3"
  },
  "language_info": {
   "codemirror_mode": {
    "name": "ipython",
    "version": 3
   },
   "file_extension": ".py",
   "mimetype": "text/x-python",
   "name": "python",
   "nbconvert_exporter": "python",
   "pygments_lexer": "ipython3",
   "version": "3.10.11"
  }
 },
 "nbformat": 4,
 "nbformat_minor": 5
}
